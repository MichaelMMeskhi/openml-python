{
  "cells": [
    {
      "cell_type": "code",
      "execution_count": null,
      "metadata": {
        "collapsed": false
      },
      "outputs": [],
      "source": [
        "%matplotlib inline"
      ]
    },
    {
      "cell_type": "markdown",
      "metadata": {},
      "source": [
        "\nOpenML Run Example\n==================\n\nAn example of an automated machine learning experiment.\n\n"
      ]
    },
    {
      "cell_type": "code",
      "execution_count": null,
      "metadata": {
        "collapsed": false
      },
      "outputs": [],
      "source": [
        "import openml\nfrom sklearn import tree, preprocessing, pipeline\n\n# Uncomment and set your OpenML key. Don't share your key with others.\n# openml.config.apikey = 'YOURKEY'\n\n# Define a scikit-learn pipeline\nclf = pipeline.Pipeline(\n    steps=[\n        ('imputer', preprocessing.Imputer()),\n        ('estimator', tree.DecisionTreeClassifier())\n    ]\n)"
      ]
    },
    {
      "cell_type": "markdown",
      "metadata": {},
      "source": [
        "Download the OpenML task for the german credit card dataset.\n\n"
      ]
    },
    {
      "cell_type": "code",
      "execution_count": null,
      "metadata": {
        "collapsed": false
      },
      "outputs": [],
      "source": [
        "task = openml.tasks.get_task(97)"
      ]
    },
    {
      "cell_type": "markdown",
      "metadata": {},
      "source": [
        "Run the scikit-learn model on the task (requires an API key).\n\n"
      ]
    },
    {
      "cell_type": "code",
      "execution_count": null,
      "metadata": {
        "collapsed": false
      },
      "outputs": [],
      "source": [
        "run = openml.runs.run_model_on_task(clf, task)\n# Publish the experiment on OpenML (optional, requires an API key).\nrun.publish()\n\nprint('URL for run: %s/run/%d' % (openml.config.server, run.run_id))"
      ]
    }
  ],
  "metadata": {
    "kernelspec": {
      "display_name": "Python 3",
      "language": "python",
      "name": "python3"
    },
    "language_info": {
      "codemirror_mode": {
        "name": "ipython",
        "version": 3
      },
      "file_extension": ".py",
      "mimetype": "text/x-python",
      "name": "python",
      "nbconvert_exporter": "python",
      "pygments_lexer": "ipython3",
      "version": "3.6.3"
    }
  },
  "nbformat": 4,
  "nbformat_minor": 0
}